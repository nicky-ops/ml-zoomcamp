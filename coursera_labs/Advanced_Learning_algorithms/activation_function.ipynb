{
 "cells": [
  {
   "cell_type": "code",
   "execution_count": null,
   "metadata": {},
   "outputs": [],
   "source": [
    "import tensorflow as tf\n",
    "from tf.keras.layers import Dense\n",
    "from tf.keras.models import Sequential\n",
    "model = Sequential([\n",
    "    Dense(units=25, activation='relu') # Hidden layer 1\n",
    "    Dense(units=15, activation='relu') # Hidden layer 2\n",
    "    Dense(units=1, activation='sigmoid') # Output layer\n",
    "])"
   ]
  },
  {
   "cell_type": "markdown",
   "metadata": {},
   "source": [
    "### Softmax Regression for Multiclass Classification"
   ]
  },
  {
   "cell_type": "code",
   "execution_count": null,
   "metadata": {},
   "outputs": [],
   "source": [
    "model = Sequential([\n",
    "    Dense(units=25, activation='relu', input_shape=(25,)), # Hidden layer 1\n",
    "    Dense(units=15, activation='relu'), # Hidden layer 2\n",
    "    Dense(units=10, activation='linear') # Output layer\n",
    "])\n",
    "\n",
    "from tensorflow.keras.losses import SparseCategoricalCrossentropy\n",
    "from tensoflow.keras.optimizers import Adam\n",
    "\n",
    "model.compile(loss=SparseCategoricalCrossentropy(from_logits=True), optimizer=Adam(learning_rate=0.001))\n",
    "model.fit(X, Y, epochs=100)\n",
    "\n",
    "logits = model(X)\n",
    "f_x = tf.nn.softmax(logits)"
   ]
  }
 ],
 "metadata": {
  "language_info": {
   "name": "python"
  }
 },
 "nbformat": 4,
 "nbformat_minor": 2
}
