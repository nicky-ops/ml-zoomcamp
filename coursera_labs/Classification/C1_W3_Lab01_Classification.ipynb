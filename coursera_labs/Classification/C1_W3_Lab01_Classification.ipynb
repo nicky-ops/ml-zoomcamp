{
 "cells": [
  {
   "cell_type": "markdown",
   "metadata": {},
   "source": [
    "# Optional Lab: Classification\n",
    "\n",
    "In this lab, you will contrast regression and classification."
   ]
  },
  {
   "cell_type": "code",
   "execution_count": 5,
   "metadata": {},
   "outputs": [],
   "source": [
    "import numpy as np\n",
    "%matplotlib widget\n",
    "import matplotlib.pyplot as plt\n",
    "from lab_utils_common import dlc, plot_data\n",
    "from plt_one_addpt_onclick import plt_one_addpt_onclick\n",
    "plt.style.use('./deeplearning.mplstyle')"
   ]
  },
  {
   "cell_type": "markdown",
   "metadata": {},
   "source": [
    "## Classification Problems\n",
    "<img align=\"left\" src=\"./images/C1_W3_Classification.png\"     style=\" width:380px; padding: 10px; \" > Examples of classification problems are things like: identifying email as Spam or Not Spam or determining if a tumor is malignant or benign. In particular, these are examples of *binary* classification where there are two possible outcomes.  Outcomes can be  described in pairs of 'positive'/'negative' such as 'yes'/'no, 'true'/'false' or '1'/'0'. \n",
    "\n",
    "Plots of classification data sets often use symbols to indicate the outcome of an example. In the plots below, 'X' is used to represent the positive values while 'O' represents negative outcomes. "
   ]
  },
  {
   "cell_type": "code",
   "execution_count": 9,
   "metadata": {},
   "outputs": [],
   "source": [
    "x_train = np.array([0., 1, 2, 3, 4, 5])\n",
    "y_train = np.array([0,  0, 0, 1, 1, 1])\n",
    "X_train2 = np.array([[0.5, 1.5], [1,1], [1.5, 0.5], [3, 0.5], [2, 2], [1, 2.5]])\n",
    "y_train2 = np.array([0, 0, 0, 1, 1, 1])"
   ]
  },
  {
   "cell_type": "code",
   "execution_count": null,
   "metadata": {},
   "outputs": [
    {
     "data": {
      "text/plain": [
       "<matplotlib.collections.PathCollection at 0x124f1a810>"
      ]
     },
     "execution_count": 10,
     "metadata": {},
     "output_type": "execute_result"
    },
    {
     "data": {
      "application/vnd.jupyter.widget-view+json": {
       "model_id": "9feadc4e05de48848edd18cfbed059bf",
       "version_major": 2,
       "version_minor": 0
      },
      "image/png": "[encoded data removed]",
      "text/html": [
       "\n",
       "            <div style=\"display: inline-block;\">\n",
       "                <div class=\"jupyter-widgets widget-label\" style=\"text-align: center;\">\n",
       "                    Figure\n",
       "                </div>\n",
       "                <img src='data:image/png;base64,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' width=800.0/>\n",
       "            </div>\n",
       "        "
      ],
      "text/plain": [
       "Canvas(toolbar=Toolbar(toolitems=[('Home', 'Reset original view', 'home', 'home'), ('Back', 'Back to previous …"
      ]
     },
     "metadata": {},
     "output_type": "display_data"
    }
   ],
   "source": [
    "pos = y_train == 1\n",
    "neg = y_train == 0\n",
    "\n",
    "fig,ax = plt.subplots(1,2, figsize=(8, 3))\n",
    "# plot 1, single variable\n",
    "ax[0].scatter(x_train[pos], y_train[pos], marker='x', s=80, c='red', label='y=1')\n",
    "ax[0].scatter(x_train[neg], y_train[neg], marker='o', s=100, c='blue', label='y=0', facecolors='none', edgecolors=dlc['dlblue'], lw=3)\n",
    "\n",
    "ax[0].set_ylim(-0.08,1.1)\n",
    "ax[0].set_ylabel('y', fontsize=12)\n",
    "ax[0].set_xlabel('x', fontsize=12)\n",
    "ax[0].set_title('one variable plot')\n",
    "ax[0].legend()\n",
    "\n",
    "#plot 2, two variables\n",
    "plot_data(X_train2, y_train2, ax[1])\n",
    "ax[1].axis([0, 4, 0, 4])\n",
    "ax[1].set_ylabel('$x_1$', fontsize=12)\n",
    "ax[1].set_xlabel('$x_0$', fontsize=12)\n",
    "ax[1].set_title('two variable plot')\n",
    "ax[1].legend()\n",
    "plt.tight_layout()\n",
    "plt.show()\n"
   ]
  },
  {
   "cell_type": "markdown",
   "metadata": {},
   "source": [
    "Note in the plots above:\n",
    "- In the single variable plot, positive results are shown both a red 'X's and as y=1. Negative results are blue 'O's and are located at y=0.\n",
    "   - Recall in the case of linear regression, y would not have been limited to two values but could have been any value.\n",
    "- In the two-variable plot, the y axis is not available.  Positive results are shown as red 'X's, while negative results use the blue 'O' symbol.\n",
    "    - Recall in the case of linear regression with multiple variables, y would not have been limited to two values and a similar plot would have been three-dimensional."
   ]
  },
  {
   "cell_type": "markdown",
   "metadata": {},
   "source": [
    "## Linear Regression approach\n",
    "In the previous week, you applied linear regression to build a prediction model. Let's try that approach here using the simple example that was described in the lecture. The model will predict if a tumor is benign or malignant based on tumor size.  Try the following:\n",
    "- Click on 'Run Linear Regression' to find the best linear regression model for the given data.\n",
    "    - Note the resulting linear model does **not** match the data well. \n",
    "One option to improve the results is to apply a *threshold*. \n",
    "- Tick the box on the 'Toggle 0.5 threshold' to show the predictions if a threshold is applied.\n",
    "    - These predictions look good, the predictions match the data\n",
    "- *Important*: Now, add further 'malignant' data points on the far right, in the large tumor size range (near 10), and re-run linear regression.\n",
    "    - Now, the model predicts the larger tumor, but data point at x=3 is being incorrectly predicted!\n",
    "- to clear/renew the plot, rerun the cell containing the plot command."
   ]
  },
  {
   "cell_type": "code",
   "execution_count": null,
   "metadata": {},
   "outputs": [],
   "source": [
    "w_in = np.zeros((1))\n",
    "b_in = 0\n",
    "plt.close('all')\n",
    "addpt = plt_one_addpt_onclick(x_train, y_train, w_in, b_in, logistic=False)"
   ]
  },
  {
   "cell_type": "code",
   "execution_count": null,
   "metadata": {},
   "outputs": [],
   "source": []
  }
 ],
 "metadata": {
  "kernelspec": {
   "display_name": "Python 3 (ipykernel)",
   "language": "python",
   "name": "python3"
  },
  "language_info": {
   "codemirror_mode": {
    "name": "ipython",
    "version": 3
   },
   "file_extension": ".py",
   "mimetype": "text/x-python",
   "name": "python",
   "nbconvert_exporter": "python",
   "pygments_lexer": "ipython3",
   "version": "3.12.4"
  }
 },
 "nbformat": 4,
 "nbformat_minor": 2
}
