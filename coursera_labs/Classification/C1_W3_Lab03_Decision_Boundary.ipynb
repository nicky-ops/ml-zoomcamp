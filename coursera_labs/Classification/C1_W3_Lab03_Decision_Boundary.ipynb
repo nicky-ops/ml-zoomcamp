{
 "cells": [
  {
   "cell_type": "markdown",
   "metadata": {},
   "source": [
    "# Optional Lab: Logistic Regression, Decision Boundary"
   ]
  },
  {
   "cell_type": "markdown",
   "metadata": {},
   "source": [
    "## Goals\n",
    "In this lab, you will:\n",
    "- Plot the decision boundary for a logistic regression model. This will give you a better sense of what the model is predicting."
   ]
  },
  {
   "cell_type": "code",
   "execution_count": 4,
   "metadata": {},
   "outputs": [],
   "source": [
    "import numpy as np\n",
    "%matplotlib widget\n",
    "import matplotlib.pyplot as plt\n",
    "from lab_utils_common import plot_data, sigmoid, draw_vthresh\n",
    "plt.style.use('./deeplearning.mplstyle')"
   ]
  },
  {
   "cell_type": "markdown",
   "metadata": {},
   "source": [
    "## Dataset\n",
    "\n",
    "Let's suppose you have following training dataset\n",
    "- The input variable `X` is a numpy array which has 6 training examples, each with two features\n",
    "- The output variable `y` is also a numpy array with 6 examples, and `y` is either `0` or `1`"
   ]
  },
  {
   "cell_type": "code",
   "execution_count": 5,
   "metadata": {},
   "outputs": [],
   "source": [
    "X = np.array([[0.5, 1.5], [1, 1], [1.5, 0.5], [3, 0.5], [2, 2], [1, 2.5]])\n",
    "y = np.array([0, 0, 0, 1, 1, 1]).reshape(-1, 1)"
   ]
  },
  {
   "cell_type": "markdown",
   "metadata": {},
   "source": [
    "### Plot data \n",
    "\n",
    "Let's use a helper function to plot this data. The data points with label $y=1$ are shown as red crosses, while the data points with label $y=0$ are shown as blue circles."
   ]
  },
  {
   "cell_type": "code",
   "execution_count": null,
   "metadata": {},
   "outputs": [
    {
     "data": {
      "application/vnd.jupyter.widget-view+json": {
       "model_id": "56a456de9e0a46a38750f0f6c17d5378",
       "version_major": 2,
       "version_minor": 0
      },
      "image/png": "[encoded data removed]",
      "text/html": [
       "\n",
       "            <div style=\"display: inline-block;\">\n",
       "                <div class=\"jupyter-widgets widget-label\" style=\"text-align: center;\">\n",
       "                    Figure\n",
       "                </div>\n",
       "                <img src='data:image/png;base64,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' width=400.0/>\n",
       "            </div>\n",
       "        "
      ],
      "text/plain": [
       "Canvas(footer_visible=False, header_visible=False, toolbar=Toolbar(toolitems=[('Home', 'Reset original view', …"
      ]
     },
     "metadata": {},
     "output_type": "display_data"
    }
   ],
   "source": [
    "fig,ax = plt.subplots(1,1,figsize=(4,4))\n",
    "plot_data(X, y, ax)\n",
    "\n",
    "ax.axis([0, 4, 0, 3.5])\n",
    "ax.set_ylabel('$x_1$')\n",
    "ax.set_xlabel('$x_0$')\n",
    "plt.show()"
   ]
  },
  {
   "cell_type": "markdown",
   "metadata": {},
   "source": [
    "## Logistic regression model\n",
    "\n",
    "\n",
    "* Suppose you'd like to train a logistic regression model on this data which has the form   \n",
    "\n",
    "  $f(x) = g(w_0x_0+w_1x_1 + b)$\n",
    "  \n",
    "  where $g(z) = \\frac{1}{1+e^{-z}}$, which is the sigmoid function\n",
    "\n",
    "\n",
    "* Let's say that you trained the model and get the parameters as $b = -3, w_0 = 1, w_1 = 1$. That is,\n",
    "\n",
    "  $f(x) = g(x_0+x_1-3)$\n",
    "\n",
    "  (You'll learn how to fit these parameters to the data further in the course)\n",
    "  \n",
    "  \n",
    "Let's try to understand what this trained model is predicting by plotting its decision boundary"
   ]
  },
  {
   "cell_type": "markdown",
   "metadata": {},
   "source": [
    "### Refresher on logistic regression and decision boundary\n",
    "\n",
    "* Recall that for logistic regression, the model is represented as \n",
    "\n",
    "  $$f_{\\mathbf{w},b}(\\mathbf{x}^{(i)}) = g(\\mathbf{w} \\cdot \\mathbf{x}^{(i)} + b) \\tag{1}$$\n",
    "\n",
    "  where $g(z)$ is known as the sigmoid function and it maps all input values to values between 0 and 1:\n",
    "\n",
    "  $g(z) = \\frac{1}{1+e^{-z}}\\tag{2}$\n",
    "  and $\\mathbf{w} \\cdot \\mathbf{x}$ is the vector dot product:\n",
    "  \n",
    "  $$\\mathbf{w} \\cdot \\mathbf{x} = w_0 x_0 + w_1 x_1$$\n",
    "  \n",
    "  \n",
    " * We interpret the output of the model ($f_{\\mathbf{w},b}(x)$) as the probability that $y=1$ given $\\mathbf{x}$ and parameterized by $\\mathbf{w}$ and $b$.\n",
    "* Therefore, to get a final prediction ($y=0$ or $y=1$) from the logistic regression model, we can use the following heuristic -\n",
    "\n",
    "  if $f_{\\mathbf{w},b}(x) >= 0.5$, predict $y=1$\n",
    "  \n",
    "  if $f_{\\mathbf{w},b}(x) < 0.5$, predict $y=0$\n",
    "  \n",
    "  \n",
    "* Let's plot the sigmoid function to see where $g(z) >= 0.5$"
   ]
  },
  {
   "cell_type": "code",
   "execution_count": null,
   "metadata": {},
   "outputs": [],
   "source": [
    "# Plot sigmoid(z) over a range of values from -10 to 10\n",
    "z = np.arange(-10, 11)\n",
    "\n",
    "fig, ax = plt.subplots(1, 1, figsize=(5, 3))\n",
    "# Plot z vs sigmoid(z)\n",
    "ax.plot(z, sigmoid(z), c='b')\n",
    "\n",
    "ax.set_title(\"Sigmoid function\")\n",
    "ax.set_ylabel(\"sigmoid(z)\")\n",
    "ax.set_xlabel(\"z\")\n",
    "draw_vthresh(ax, 0)"
   ]
  },
  {
   "cell_type": "markdown",
   "metadata": {},
   "source": [
    "* As you can see, $g(z) >= 0.5$ for $z >=0$\n",
    "\n",
    "* For a logistic regression model, $z = \\mathbf{w} \\cdot \\mathbf{x} + b$. Therefore,\n",
    "\n",
    "  if $\\mathbf{w} \\cdot \\mathbf{x} + b >= 0$, the model predicts $y=1$\n",
    "  \n",
    "  if $\\mathbf{w} \\cdot \\mathbf{x} + b < 0$, the model predicts $y=0$\n",
    "  \n",
    "  \n",
    "  \n",
    "### Plotting decision boundary\n",
    "\n",
    "Now, let's go back to our example to understand how the logistic regression model is making predictions.\n",
    "\n",
    "* Our logistic regression model has the form\n",
    "\n",
    "  $f(\\mathbf{x}) = g(-3 + x_0+x_1)$\n",
    "\n",
    "\n",
    "* From what you've learnt above, you can see that this model predicts $y=1$ if $-3 + x_0+x_1 >= 0$\n",
    "\n",
    "Let's see what this looks like graphically. We'll start by plotting $-3 + x_0+x_1 = 0$, which is equivalent to $x_1 = 3 - x_0$."
   ]
  },
  {
   "cell_type": "markdown",
   "metadata": {},
   "source": []
  }
 ],
 "metadata": {
  "kernelspec": {
   "display_name": "Python 3 (ipykernel)",
   "language": "python",
   "name": "python3"
  },
  "language_info": {
   "codemirror_mode": {
    "name": "ipython",
    "version": 3
   },
   "file_extension": ".py",
   "mimetype": "text/x-python",
   "name": "python",
   "nbconvert_exporter": "python",
   "pygments_lexer": "ipython3",
   "version": "3.12.4"
  }
 },
 "nbformat": 4,
 "nbformat_minor": 2
}
