{
 "cells": [
  {
   "cell_type": "markdown",
   "metadata": {},
   "source": [
    "# Optional Lab: Logistic Regression\n",
    "\n",
    "In this ungraded lab, you will \n",
    "- explore the sigmoid function (also known as the logistic function)\n",
    "- explore logistic regression; which uses the sigmoid function"
   ]
  },
  {
   "cell_type": "code",
   "execution_count": 11,
   "metadata": {},
   "outputs": [],
   "source": [
    "import numpy as np\n",
    "%matplotlib widget\n",
    "import matplotlib.pyplot as plt\n",
    "from plt_one_addpt_onclick import plt_one_addpt_onclick\n",
    "from lab_utils_common import draw_vthresh\n",
    "plt.style.use('./deeplearning.mplstyle')"
   ]
  },
  {
   "cell_type": "markdown",
   "metadata": {},
   "source": [
    "## Sigmoid or Logistic Function\n",
    "<img align=\"left\" src=\"./images/C1_W3_LogisticRegression_left.png\"     style=\" width:300px; padding: 10px; \" >As discussed in the lecture videos, for a classification task, we can start by using our linear regression model, $f_{\\mathbf{w},b}(\\mathbf{x}^{(i)}) = \\mathbf{w} \\cdot  \\mathbf{x}^{(i)} + b$, to predict $y$ given $x$. \n",
    "- However, we would like the predictions of our classification model to be between 0 and 1 since our output variable $y$ is either 0 or 1. \n",
    "- This can be accomplished by using a \"sigmoid function\" which maps all input values to values between 0 and 1. \n",
    "\n",
    "\n",
    "Let's implement the sigmoid function and see this for ourselves.\n",
    "\n",
    "## Formula for Sigmoid function\n",
    "\n",
    "The formula for a sigmoid function is as follows -  \n",
    "\n",
    "$g(z) = \\frac{1}{1+e^{-z}}\\tag{1}$\n",
    "\n",
    "In the case of logistic regression, z (the input to the sigmoid function), is the output of a linear regression model. \n",
    "- In the case of a single example, $z$ is scalar.\n",
    "- in the case of multiple examples, $z$ may be a vector consisting of $m$ values, one for each example. \n",
    "- The implementation of the sigmoid function should cover both of these potential input formats.\n",
    "Let's implement this in Python."
   ]
  },
  {
   "cell_type": "markdown",
   "metadata": {},
   "source": [
    "NumPy has a function called [`exp()`](https://numpy.org/doc/stable/reference/generated/numpy.exp.html), which offers a convenient way to calculate the exponential ( $e^{z}$) of all elements in the input array (`z`).\n",
    " \n",
    "It also works with a single number as an input, as shown below."
   ]
  },
  {
   "cell_type": "code",
   "execution_count": 12,
   "metadata": {},
   "outputs": [
    {
     "name": "stdout",
     "output_type": "stream",
     "text": [
      "Input to exp: [1 2 3]\n",
      "Output of exp: [ 2.72  7.39 20.09]\n",
      "Input to exp: 1\n",
      "Output of exp: 2.718281828459045\n"
     ]
    }
   ],
   "source": [
    "#  Input is an array.\n",
    "input_array = np.array([1,2,3])\n",
    "exp_array = np.exp(input_array)\n",
    "\n",
    "print(\"Input to exp:\", input_array)\n",
    "print(\"Output of exp:\", exp_array)\n",
    "\n",
    "#  input is a single number\n",
    "input_val = 1\n",
    "exp_val = np.exp(input_val)\n",
    "\n",
    "print(\"Input to exp:\", input_val)\n",
    "print(\"Output of exp:\", exp_val)"
   ]
  },
  {
   "cell_type": "markdown",
   "metadata": {},
   "source": [
    "The `sigmoid` function is implemented in python as shown in the cell below."
   ]
  },
  {
   "cell_type": "code",
   "execution_count": 13,
   "metadata": {},
   "outputs": [],
   "source": [
    "def sigmoid(z):\n",
    "    '''\n",
    "    Compute the sigmoid of z\n",
    "    \n",
    "    Args:\n",
    "        x (ndarray): A scalar, numpy array of any size\n",
    "    Returns:\n",
    "        g (ndarray): sigmoid(z), with the same shape as z\n",
    "    '''\n",
    "    g = 1/(1+np.exp(-z))\n",
    "\n",
    "    return g"
   ]
  },
  {
   "cell_type": "code",
   "execution_count": 14,
   "metadata": {},
   "outputs": [
    {
     "name": "stdout",
     "output_type": "stream",
     "text": [
      "Input (z), Output (sigmoid(z))\n",
      "[[-1.000e+01  4.540e-05]\n",
      " [-9.000e+00  1.234e-04]\n",
      " [-8.000e+00  3.354e-04]\n",
      " [-7.000e+00  9.111e-04]\n",
      " [-6.000e+00  2.473e-03]\n",
      " [-5.000e+00  6.693e-03]\n",
      " [-4.000e+00  1.799e-02]\n",
      " [-3.000e+00  4.743e-02]\n",
      " [-2.000e+00  1.192e-01]\n",
      " [-1.000e+00  2.689e-01]\n",
      " [ 0.000e+00  5.000e-01]\n",
      " [ 1.000e+00  7.311e-01]\n",
      " [ 2.000e+00  8.808e-01]\n",
      " [ 3.000e+00  9.526e-01]\n",
      " [ 4.000e+00  9.820e-01]\n",
      " [ 5.000e+00  9.933e-01]\n",
      " [ 6.000e+00  9.975e-01]\n",
      " [ 7.000e+00  9.991e-01]\n",
      " [ 8.000e+00  9.997e-01]\n",
      " [ 9.000e+00  9.999e-01]\n",
      " [ 1.000e+01  1.000e+00]]\n"
     ]
    }
   ],
   "source": [
    "# Generate an array of evenly spaced values between -10 and 10\n",
    "z_tmp = np.arange(-10, 11)\n",
    "\n",
    "# Compute the sigmoid of each value in the array\n",
    "y = sigmoid(z_tmp)\n",
    "\n",
    "# code for pretty printing the two arrays next to each other\n",
    "np.set_printoptions(precision=3)\n",
    "print(\"Input (z), Output (sigmoid(z))\")\n",
    "print(np.c_[z_tmp, y])"
   ]
  },
  {
   "cell_type": "markdown",
   "metadata": {},
   "source": [
    "The values in the left column are `z`, and the values in the right column are `sigmoid(z)`. As you can see, the input values to the sigmoid range from -10 to 10, and the output values range from 0 to 1. \n",
    "\n",
    "Now, let's try to plot this function using the `matplotlib` library."
   ]
  },
  {
   "cell_type": "code",
   "execution_count": null,
   "metadata": {},
   "outputs": [
    {
     "data": {
      "application/vnd.jupyter.widget-view+json": {
       "model_id": "c029eea73df944bc9c812dc811cbd80d",
       "version_major": 2,
       "version_minor": 0
      },
      "image/png": "[encoded data removed]",
      "text/html": [
       "\n",
       "            <div style=\"display: inline-block;\">\n",
       "                <div class=\"jupyter-widgets widget-label\" style=\"text-align: center;\">\n",
       "                    Figure\n",
       "                </div>\n",
       "                <img src='data:image/png;base64,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' width=500.0/>\n",
       "            </div>\n",
       "        "
      ],
      "text/plain": [
       "Canvas(toolbar=Toolbar(toolitems=[('Home', 'Reset original view', 'home', 'home'), ('Back', 'Back to previous …"
      ]
     },
     "metadata": {},
     "output_type": "display_data"
    }
   ],
   "source": [
    "# Plot z vs sigmoid(z)\n",
    "fig,ax = plt.subplots(1,1,figsize=(5,3))\n",
    "ax.plot(z_tmp, y, c=\"b\")\n",
    "\n",
    "ax.set_title(\"Sigmoid function\")\n",
    "ax.set_ylabel('sigmoid(z)')\n",
    "ax.set_xlabel('z')\n",
    "draw_vthresh(ax,0)"
   ]
  },
  {
   "cell_type": "markdown",
   "metadata": {},
   "source": [
    "## Logistic Regression\n",
    "<img align=\"left\" src=\"./images/C1_W3_LogisticRegression_right.png\"     style=\" width:300px; padding: 10px; \" > A logistic regression model applies the sigmoid to the familiar linear regression model as shown below:\n",
    "\n",
    "$$ f_{\\mathbf{w},b}(\\mathbf{x}^{(i)}) = g(\\mathbf{w} \\cdot \\mathbf{x}^{(i)} + b ) \\tag{2} $$ \n",
    "\n",
    "  where\n",
    "\n",
    "  $g(z) = \\frac{1}{1+e^{-z}}\\tag{3}$\n",
    "\n"
   ]
  },
  {
   "cell_type": "markdown",
   "metadata": {},
   "source": [
    "  \n",
    "Let's apply logistic regression to the categorical data example of tumor classification.  \n",
    "First, load the examples and initial values for the parameters."
   ]
  },
  {
   "cell_type": "code",
   "execution_count": null,
   "metadata": {},
   "outputs": [],
   "source": [
    "x_train = np.array([0., 1, 2, 3, 4, 5])\n",
    "y_train = np.array([0, 0, 0, 1, 1, 1])\n",
    "\n",
    "w_in = np.zeros((1))\n",
    "b_in = 0"
   ]
  },
  {
   "cell_type": "markdown",
   "metadata": {},
   "source": [
    "Try the following steps:\n",
    "- Click on 'Run Logistic Regression' to find the best logistic regression model for the given training data\n",
    "    - Note the resulting model fits the data quite well.\n",
    "    - Note, the orange line is '$z$' or $\\mathbf{w} \\cdot \\mathbf{x}^{(i)} + b$  above. It does not match the line in a linear regression model.\n",
    "Further improve these results by applying a *threshold*. \n",
    "- Tick the box on the 'Toggle 0.5 threshold' to show the predictions if a threshold is applied.\n",
    "    - These predictions look good. The predictions match the data\n",
    "    - Now, add further data points in the large tumor size range (near 10), and re-run logistic regression.\n",
    "    - unlike the linear regression model, this model continues to make correct predictions"
   ]
  },
  {
   "cell_type": "code",
   "execution_count": null,
   "metadata": {},
   "outputs": [],
   "source": [
    "plt.close('all')\n",
    "addpt = plt_one_addpt_onclick(x_train, y_train, w_in, b_in, logistic=True)"
   ]
  }
 ],
 "metadata": {
  "kernelspec": {
   "display_name": "Python 3 (ipykernel)",
   "language": "python",
   "name": "python3"
  },
  "language_info": {
   "codemirror_mode": {
    "name": "ipython",
    "version": 3
   },
   "file_extension": ".py",
   "mimetype": "text/x-python",
   "name": "python",
   "nbconvert_exporter": "python",
   "pygments_lexer": "ipython3",
   "version": "3.12.4"
  }
 },
 "nbformat": 4,
 "nbformat_minor": 2
}
