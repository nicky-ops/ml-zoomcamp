{
 "cells": [
  {
   "cell_type": "code",
   "execution_count": null,
   "metadata": {},
   "outputs": [],
   "source": [
    "import tensorflow as tf"
   ]
  },
  {
   "cell_type": "code",
   "execution_count": null,
   "metadata": {},
   "outputs": [],
   "source": [
    "w = tf.Variable(3.0)\n",
    "x = 1.0\n",
    "y = 1.0\n",
    "alpha = 0.01\n",
    "\n",
    "iterations = 30\n",
    "for iter in range(iterations):\n",
    "    with tf.GradientTape() as tape:\n",
    "        fwb = w * x\n",
    "        costJ = tf.square(fwb - y)**2\n",
    "\n",
    "[dJdw] = tape.gradient(costJ, [w])\n",
    "\n",
    "w.assign_add(-alpa * dJdw)\n"
   ]
  },
  {
   "cell_type": "code",
   "execution_count": null,
   "metadata": {},
   "outputs": [],
   "source": [
    "# using adam optimizer\n",
    "\n",
    "optimizer = keras.optimizers.Adam(learning_rate=1e-1)\n",
    "\n",
    "iterations = 200\n",
    "for iter in range(iterations):\n",
    "    with tf.GradientTape() as tape:\n",
    "        cost_value = cofiCostFuncV(X, W, b, Ynorm, R, num_users, num_movies, lambda)\n",
    "    \n",
    "    grads = tape.gradient(cost_value, [X, W, b])\n",
    "\n",
    "    optimizer.apply_gradients(xip(grads, [X, W, b]))"
   ]
  },
  {
   "cell_type": "code",
   "execution_count": null,
   "metadata": {},
   "outputs": [],
   "source": []
  }
 ],
 "metadata": {
  "kernelspec": {
   "display_name": "Python 3 (ipykernel)",
   "language": "python",
   "name": "python3"
  }
 },
 "nbformat": 4,
 "nbformat_minor": 2
}
