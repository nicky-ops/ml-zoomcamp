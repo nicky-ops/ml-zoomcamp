{
 "cells": [
  {
   "cell_type": "markdown",
   "metadata": {},
   "source": [
    "# PCA - An example on Exploratory Data Analysis\n",
    "\n",
    "In this notebook you will:\n",
    "\n",
    "- Replicate Andrew's example on PCA\n",
    "- Visualize how PCA works on a 2-dimensional small dataset and that not every projection is \"good\"\n",
    "- Visualize how a 3-dimensional data can also be contained in a 2-dimensional subspace\n",
    "- Use PCA to find hidden patterns in a high-dimensional dataset"
   ]
  },
  {
   "cell_type": "code",
   "execution_count": null,
   "metadata": {},
   "outputs": [],
   "source": [
    "import pandas as pd\n",
    "import numpy as np\n",
    "from sklearn.decomposition import PCA\n",
    "from "
   ]
  }
 ],
 "metadata": {
  "kernelspec": {
   "display_name": "Python 3 (ipykernel)",
   "language": "python",
   "name": "python3"
  }
 },
 "nbformat": 4,
 "nbformat_minor": 2
}
